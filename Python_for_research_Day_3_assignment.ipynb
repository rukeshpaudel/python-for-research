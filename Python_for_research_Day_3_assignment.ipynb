{
  "nbformat": 4,
  "nbformat_minor": 0,
  "metadata": {
    "colab": {
      "provenance": [],
      "collapsed_sections": [],
      "authorship_tag": "ABX9TyM0rQpW6s/rSa89HhMQ5JKO",
      "include_colab_link": true
    },
    "kernelspec": {
      "name": "python3",
      "display_name": "Python 3"
    },
    "language_info": {
      "name": "python"
    }
  },
  "cells": [
    {
      "cell_type": "markdown",
      "metadata": {
        "id": "view-in-github",
        "colab_type": "text"
      },
      "source": [
        "<a href=\"https://colab.research.google.com/github/rukeshpaudel/python-for-research/blob/main/Python_for_research_Day_3_assignment.ipynb\" target=\"_parent\"><img src=\"https://colab.research.google.com/assets/colab-badge.svg\" alt=\"Open In Colab\"/></a>"
      ]
    },
    {
      "cell_type": "markdown",
      "source": [
        "1. Using the string manipulation technique Extract the fruit's name from the text.\n",
        "\n",
        "\n",
        "txt = \"I Like Orange Apple Banana and kiwi.\"\n",
        "['orange', 'apple', 'banana', 'kiwi']"
      ],
      "metadata": {
        "id": "Q2w9MtMGbTbw"
      }
    },
    {
      "cell_type": "code",
      "source": [
        "txt = 'I Like Orange Apple Banana and kiwi'\n",
        "tmp = txt.split()\n",
        "tmp[2],tmp[3],tmp[4],tmp[6]"
      ],
      "metadata": {
        "colab": {
          "base_uri": "https://localhost:8080/"
        },
        "id": "Fy3p0KirbUmy",
        "outputId": "b60e1205-ba41-47c4-82fd-0e6a606109e6"
      },
      "execution_count": null,
      "outputs": [
        {
          "output_type": "execute_result",
          "data": {
            "text/plain": [
              "('Orange', 'Apple', 'Banana', 'kiwi')"
            ]
          },
          "metadata": {},
          "execution_count": 7
        }
      ]
    },
    {
      "cell_type": "markdown",
      "source": [
        "2.  WAP to count vowels and consonants on the given string."
      ],
      "metadata": {
        "id": "ckJnPrIUeGKr"
      }
    },
    {
      "cell_type": "code",
      "source": [
        "txt = 'I Like Orange Apple Banana and kiwi'\n",
        "txt = txt.lower()\n",
        "count_vow, count_const = 0,0\n",
        "letter = len(txt)\n",
        "for index in range(0,letter,1):\n",
        "  if txt[index] == \"a\" or txt[index] == \"e\" or txt[index] == \"i\" or txt[index] == \"o\" or txt[index] == \"u\" :\n",
        "      count_vow += 1\n",
        "  else:\n",
        "      count_const +=1\n",
        "print(\"The number of vowels in the string are {}\".format(count_vow))\n",
        "print(\"The number of consonant in the string are {}\".format(count_const))"
      ],
      "metadata": {
        "colab": {
          "base_uri": "https://localhost:8080/"
        },
        "id": "m6QzV_b6dlPg",
        "outputId": "c5ebb81c-4aa8-451c-d872-2b9bf1a38599"
      },
      "execution_count": null,
      "outputs": [
        {
          "output_type": "stream",
          "name": "stdout",
          "text": [
            "The number of vowels in the string are 14\n",
            "The number of consonant in the string are 21\n"
          ]
        }
      ]
    },
    {
      "cell_type": "markdown",
      "source": [
        "\n",
        "3.  Read a string from the user and print it in reverse order using the loops and the range() function."
      ],
      "metadata": {
        "id": "wKL3D5xSjXHd"
      }
    },
    {
      "cell_type": "code",
      "source": [
        "txt = 'I Like Orange Apple Banana and kiwi'\n",
        "def reverse_fn(string):\n",
        "    reverse_txt =\" \"\n",
        "    for index in range(letter-1,-1,-1):\n",
        "        reverse_txt = reverse_txt + txt[index]\n",
        "    return reverse_txt\n",
        "\n",
        "reverse_fn(txt)"
      ],
      "metadata": {
        "colab": {
          "base_uri": "https://localhost:8080/",
          "height": 35
        },
        "id": "EevYbXZaeaRA",
        "outputId": "d0ad91be-d47e-40bf-8e9c-8ff86f138389"
      },
      "execution_count": null,
      "outputs": [
        {
          "output_type": "execute_result",
          "data": {
            "text/plain": [
              "' iwik dna ananaB elppA egnarO ekiL I'"
            ],
            "application/vnd.google.colaboratory.intrinsic+json": {
              "type": "string"
            }
          },
          "metadata": {},
          "execution_count": 61
        }
      ]
    },
    {
      "cell_type": "markdown",
      "source": [
        "4. Python Program to Display the multiplication Table of number 7\n"
      ],
      "metadata": {
        "id": "6EI3OGodp63r"
      }
    },
    {
      "cell_type": "code",
      "source": [
        "index =0\n",
        "for index in range(1, 10,1):\n",
        "   print(7, 'x', index, '=', 7*index)"
      ],
      "metadata": {
        "colab": {
          "base_uri": "https://localhost:8080/"
        },
        "id": "VkzrGTZBkJ8C",
        "outputId": "bcba5d72-e8af-4107-f825-dece9feb79ee"
      },
      "execution_count": null,
      "outputs": [
        {
          "output_type": "stream",
          "name": "stdout",
          "text": [
            "7 x 1 = 7\n",
            "7 x 2 = 14\n",
            "7 x 3 = 21\n",
            "7 x 4 = 28\n",
            "7 x 5 = 35\n",
            "7 x 6 = 42\n",
            "7 x 7 = 49\n",
            "7 x 8 = 56\n",
            "7 x 9 = 63\n"
          ]
        }
      ]
    },
    {
      "cell_type": "markdown",
      "source": [
        "5. Python Program to convert temperature in celsius to Fahrenheit"
      ],
      "metadata": {
        "id": "9_mvBRJj7FUm"
      }
    },
    {
      "cell_type": "code",
      "source": [
        "celsius = float(input(\"Enter temperature in celsius: \"))\n",
        "Fahrenheit = 9/5 * celsius +32\n",
        "print(\"The temperature in fahrenheit is {}\".format(Fahrenheit))"
      ],
      "metadata": {
        "colab": {
          "base_uri": "https://localhost:8080/"
        },
        "id": "a7hqzbeftbuG",
        "outputId": "39d1254d-c7a5-4c57-8a8c-d89ceedb4464"
      },
      "execution_count": null,
      "outputs": [
        {
          "output_type": "stream",
          "name": "stdout",
          "text": [
            "Enter temperature in celsius: -40\n",
            "The temperature in fahrenheit is -40.0\n"
          ]
        }
      ]
    },
    {
      "cell_type": "code",
      "source": [],
      "metadata": {
        "id": "P0I8d_WM8rxq"
      },
      "execution_count": null,
      "outputs": []
    }
  ]
}