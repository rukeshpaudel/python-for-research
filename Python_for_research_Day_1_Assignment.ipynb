{
  "nbformat": 4,
  "nbformat_minor": 0,
  "metadata": {
    "colab": {
      "provenance": [],
      "authorship_tag": "ABX9TyMKRKUVZHjkwl38Uc7EOFIt",
      "include_colab_link": true
    },
    "kernelspec": {
      "name": "python3",
      "display_name": "Python 3"
    },
    "language_info": {
      "name": "python"
    }
  },
  "cells": [
    {
      "cell_type": "markdown",
      "metadata": {
        "id": "view-in-github",
        "colab_type": "text"
      },
      "source": [
        "<a href=\"https://colab.research.google.com/github/rukeshpaudel/python-for-research/blob/main/Python_for_research_Day_1_Assignment.ipynb\" target=\"_parent\"><img src=\"https://colab.research.google.com/assets/colab-badge.svg\" alt=\"Open In Colab\"/></a>"
      ]
    },
    {
      "cell_type": "code",
      "execution_count": null,
      "metadata": {
        "id": "yY0aVLX7X_jd"
      },
      "outputs": [],
      "source": []
    },
    {
      "cell_type": "markdown",
      "source": [
        "1. Write a program to swap the values in two variables\n",
        "   \n",
        "    num1 = 0.7\n",
        "    num2 =  -3\n",
        "\n",
        "    Expected Output:\n",
        "    num1 = -3\n",
        "    num2 =  0.7"
      ],
      "metadata": {
        "id": "86zBTvIhYNQp"
      }
    },
    {
      "cell_type": "code",
      "source": [
        "num1 = 0.7\n",
        "num2 = 3\n",
        "print(\"Before swapping, num1 = {} num2 = {}\".format(num1,num2))\n",
        "temp = num1\n",
        "num1 = num2\n",
        "num2 = temp\n",
        "print(\"After swapping, num1 = {} num2 = {}\".format(num1,num2))\n"
      ],
      "metadata": {
        "colab": {
          "base_uri": "https://localhost:8080/"
        },
        "id": "aGaGPxA-YPzO",
        "outputId": "e39d4f5b-e01c-455f-b575-ae6f94e6788e"
      },
      "execution_count": null,
      "outputs": [
        {
          "output_type": "stream",
          "name": "stdout",
          "text": [
            "Before swapping, num1 = 0.7 num2 = 3\n",
            "After swapping, num1 = 3 num2 = 0.7\n"
          ]
        }
      ]
    },
    {
      "cell_type": "code",
      "source": [],
      "metadata": {
        "id": "hH7S6qJ6Yt4W"
      },
      "execution_count": null,
      "outputs": []
    },
    {
      "cell_type": "markdown",
      "source": [
        "2. Start the Python interpreter and use it as a calculator.\n",
        "\n",
        "    1️⃣ How many seconds are there in 42 minutes 42 seconds?"
      ],
      "metadata": {
        "id": "qBimetaWZJkR"
      }
    },
    {
      "cell_type": "code",
      "source": [
        "hour = 0\n",
        "minute = 42\n",
        "seconds = 42\n",
        "\n",
        "total_seconds =hour * 60 *60 + minute * 60 + seconds\n",
        "print(\"Total seconds : {}\".format(total_seconds))"
      ],
      "metadata": {
        "colab": {
          "base_uri": "https://localhost:8080/"
        },
        "id": "r0qlhNEJZSks",
        "outputId": "befa5579-81f0-41ef-c3e6-c053df3b83fe"
      },
      "execution_count": null,
      "outputs": [
        {
          "output_type": "stream",
          "name": "stdout",
          "text": [
            "Total seconds : 2562\n"
          ]
        }
      ]
    },
    {
      "cell_type": "markdown",
      "source": [
        "  2️⃣ How many miles are there in 10 kilometers? Hint: there are 1.609 kilometers in a mile."
      ],
      "metadata": {
        "id": "kPkHtbKuZvQH"
      }
    },
    {
      "cell_type": "code",
      "source": [
        "km= 10\n",
        "m = km*1.609\n",
        "print(\"In 10 kilometers, there are {} miles\".format(m))"
      ],
      "metadata": {
        "colab": {
          "base_uri": "https://localhost:8080/"
        },
        "id": "OXvMINZ5Zqvs",
        "outputId": "3aa7fb84-bdb0-41f9-db55-6d2bf8d3ebd3"
      },
      "execution_count": null,
      "outputs": [
        {
          "output_type": "stream",
          "name": "stdout",
          "text": [
            "In 10 kilometers, there are 16.09 miles\n"
          ]
        }
      ]
    },
    {
      "cell_type": "markdown",
      "source": [
        "  3️⃣ If you run a 10-kilometer race in 42 minutes and 42 seconds, what is your average pace (speed: mile per minutes and miles per seconds)?"
      ],
      "metadata": {
        "id": "tEP08mD0aS2d"
      }
    },
    {
      "cell_type": "markdown",
      "source": [],
      "metadata": {
        "id": "d1KMOVhMdOMq"
      }
    },
    {
      "cell_type": "code",
      "source": [
        "avg = m/total_seconds\n",
        "print(\"Total pace = {} miles/seconds\".format(avg))"
      ],
      "metadata": {
        "colab": {
          "base_uri": "https://localhost:8080/"
        },
        "id": "O4zrxVd5aNsC",
        "outputId": "713ccd6e-a88f-4d4b-fe18-d4d0efc187c5"
      },
      "execution_count": null,
      "outputs": [
        {
          "output_type": "stream",
          "name": "stdout",
          "text": [
            "Total pace = 0.006280249804839969 miles/seconds\n"
          ]
        }
      ]
    },
    {
      "cell_type": "code",
      "source": [],
      "metadata": {
        "id": "RajV_bqfa-KC"
      },
      "execution_count": null,
      "outputs": []
    },
    {
      "cell_type": "markdown",
      "source": [
        "3. Suppose the cover price of a book is 24.95 dollars but the bookstore gets a 40% discount. Shipping costs $3 for the first copy and 75 cents for each additional copy. What is the total wholesale cost for 60 copies?"
      ],
      "metadata": {
        "id": "rl7MVdJ1bqDy"
      }
    },
    {
      "cell_type": "code",
      "source": [
        "cover_price= 24.95\n",
        "discount_percentage = 40\n",
        "shipping_cost_first_copy = 3\n",
        "shipping_cost_add_copy = 0.75\n",
        "no_of_copies = 60\n",
        "total_price = (cover_price - cover_price*discount_percentage/100)*60 + shipping_cost_first_copy + 59* shipping_cost_add_copy\n",
        "print(total_price)\n"
      ],
      "metadata": {
        "colab": {
          "base_uri": "https://localhost:8080/"
        },
        "id": "eSaDvi2Jbsyi",
        "outputId": "06413dec-04c1-4504-be85-0512036c8159"
      },
      "execution_count": null,
      "outputs": [
        {
          "output_type": "stream",
          "name": "stdout",
          "text": [
            "945.4499999999999\n"
          ]
        }
      ]
    },
    {
      "cell_type": "code",
      "source": [],
      "metadata": {
        "id": "9JSdrOoJfk34"
      },
      "execution_count": null,
      "outputs": []
    }
  ]
}