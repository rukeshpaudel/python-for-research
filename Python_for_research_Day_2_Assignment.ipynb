{
  "nbformat": 4,
  "nbformat_minor": 0,
  "metadata": {
    "colab": {
      "provenance": [],
      "authorship_tag": "ABX9TyNIVO5VxKN4QddJ0XdCTqFn",
      "include_colab_link": true
    },
    "kernelspec": {
      "name": "python3",
      "display_name": "Python 3"
    },
    "language_info": {
      "name": "python"
    }
  },
  "cells": [
    {
      "cell_type": "markdown",
      "metadata": {
        "id": "view-in-github",
        "colab_type": "text"
      },
      "source": [
        "<a href=\"https://colab.research.google.com/github/rukeshpaudel/python-for-research/blob/main/Python_for_research_Day_2_Assignment.ipynb\" target=\"_parent\"><img src=\"https://colab.research.google.com/assets/colab-badge.svg\" alt=\"Open In Colab\"/></a>"
      ]
    },
    {
      "cell_type": "code",
      "execution_count": null,
      "metadata": {
        "id": "tfysyz8zP5p7"
      },
      "outputs": [],
      "source": []
    },
    {
      "cell_type": "markdown",
      "source": [
        "1. Write a program to check if the given input is 10 or not. If it is 10 print the number else print input is not 10"
      ],
      "metadata": {
        "id": "dQOI7rY9QA5s"
      }
    },
    {
      "cell_type": "code",
      "source": [
        "input_num = int(input(\"Enter number : \"))\n",
        "if input_num ==10:\n",
        "    print(input_num)\n",
        "else:\n",
        "    print(\"input is not 10\")"
      ],
      "metadata": {
        "colab": {
          "base_uri": "https://localhost:8080/"
        },
        "id": "ZbK1-xtmQCF4",
        "outputId": "42bf240e-314b-4554-84cb-7cc6a74f60c9"
      },
      "execution_count": 2,
      "outputs": [
        {
          "output_type": "stream",
          "name": "stdout",
          "text": [
            "Enter number : 10\n",
            "10\n"
          ]
        }
      ]
    },
    {
      "cell_type": "code",
      "source": [],
      "metadata": {
        "id": "LoHrygY4QjAn"
      },
      "execution_count": null,
      "outputs": []
    },
    {
      "cell_type": "markdown",
      "source": [
        "2. WAP to check whether the user-given input integer is a positive or negative Number. If it is positive print the square of the number else prints the cube of the user-given input."
      ],
      "metadata": {
        "id": "pKRl_saQQwF0"
      }
    },
    {
      "cell_type": "code",
      "source": [
        "input_num = int(input(\"Enter any number: \"))\n",
        "if input_num >= 0:\n",
        "    print(\"Positive\")\n",
        "    print(input_num**2)\n",
        "else:\n",
        "    print(\"Negative\")\n",
        "    print(input_num**3)\n"
      ],
      "metadata": {
        "colab": {
          "base_uri": "https://localhost:8080/"
        },
        "id": "1Gk3bH_RQzmt",
        "outputId": "5231642c-ad6e-4039-c777-108a5659b074"
      },
      "execution_count": 6,
      "outputs": [
        {
          "output_type": "stream",
          "name": "stdout",
          "text": [
            "Enter any number: -9\n",
            "Negative\n",
            "-729\n"
          ]
        }
      ]
    },
    {
      "cell_type": "code",
      "source": [],
      "metadata": {
        "id": "y1-ejOMFROh8"
      },
      "execution_count": 3,
      "outputs": []
    }
  ]
}