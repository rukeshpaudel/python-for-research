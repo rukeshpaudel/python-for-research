{
  "nbformat": 4,
  "nbformat_minor": 0,
  "metadata": {
    "colab": {
      "provenance": [],
      "authorship_tag": "ABX9TyOFP90D3QYpym7HiFmOTzmQ",
      "include_colab_link": true
    },
    "kernelspec": {
      "name": "python3",
      "display_name": "Python 3"
    },
    "language_info": {
      "name": "python"
    }
  },
  "cells": [
    {
      "cell_type": "markdown",
      "metadata": {
        "id": "view-in-github",
        "colab_type": "text"
      },
      "source": [
        "<a href=\"https://colab.research.google.com/github/rukeshpaudel/python-for-research/blob/main/Python_for_research_Day_2_Assignment.ipynb\" target=\"_parent\"><img src=\"https://colab.research.google.com/assets/colab-badge.svg\" alt=\"Open In Colab\"/></a>"
      ]
    },
    {
      "cell_type": "markdown",
      "source": [
        "1. Write a program to check if the given input is 10 or not. If it is 10 print the number else print input is not 10"
      ],
      "metadata": {
        "id": "dQOI7rY9QA5s"
      }
    },
    {
      "cell_type": "code",
      "source": [
        "input_num = int(input(\"Enter number : \"))\n",
        "if input_num ==10:\n",
        "    print(input_num)\n",
        "else:\n",
        "    print(\"input is not 10\")"
      ],
      "metadata": {
        "colab": {
          "base_uri": "https://localhost:8080/"
        },
        "id": "ZbK1-xtmQCF4",
        "outputId": "42bf240e-314b-4554-84cb-7cc6a74f60c9"
      },
      "execution_count": 2,
      "outputs": [
        {
          "output_type": "stream",
          "name": "stdout",
          "text": [
            "Enter number : 10\n",
            "10\n"
          ]
        }
      ]
    },
    {
      "cell_type": "markdown",
      "source": [
        "2. WAP to check whether the user-given input integer is a positive or negative Number. If it is positive print the square of the number else prints the cube of the user-given input."
      ],
      "metadata": {
        "id": "pKRl_saQQwF0"
      }
    },
    {
      "cell_type": "code",
      "source": [
        "input_num = int(input(\"Enter any number: \"))\n",
        "if input_num >= 0:\n",
        "    print(\"Positive\")\n",
        "    print(input_num**2)\n",
        "else:\n",
        "    print(\"Negative\")\n",
        "    print(input_num**3)\n"
      ],
      "metadata": {
        "colab": {
          "base_uri": "https://localhost:8080/"
        },
        "id": "1Gk3bH_RQzmt",
        "outputId": "5231642c-ad6e-4039-c777-108a5659b074"
      },
      "execution_count": 6,
      "outputs": [
        {
          "output_type": "stream",
          "name": "stdout",
          "text": [
            "Enter any number: -9\n",
            "Negative\n",
            "-729\n"
          ]
        }
      ]
    },
    {
      "cell_type": "markdown",
      "source": [
        "3.  Write a program to display \"Hello\" if a number entered by the user is a multiple of five,  otherwise print \"Bye\"."
      ],
      "metadata": {
        "id": "xNu6f8Z3VrxS"
      }
    },
    {
      "cell_type": "code",
      "source": [
        "input_num = int(input(\"Enter any number: \"))\n",
        "if input_num % 5 == 0:\n",
        "    print(\"Hello\")\n",
        "else:\n",
        "    print(\"Bye\")"
      ],
      "metadata": {
        "colab": {
          "base_uri": "https://localhost:8080/"
        },
        "id": "y1-ejOMFROh8",
        "outputId": "dd075daa-3bcd-406a-dd53-d9170f7a51fc"
      },
      "execution_count": 3,
      "outputs": [
        {
          "output_type": "stream",
          "name": "stdout",
          "text": [
            "Enter any number: 23\n",
            "Bye\n"
          ]
        }
      ]
    },
    {
      "cell_type": "markdown",
      "source": [
        "4. Write a program to check whether the last digit of a number ( entered by the user ) is divisible by 3 or not."
      ],
      "metadata": {
        "id": "PiyrjnbeWNoz"
      }
    },
    {
      "cell_type": "code",
      "source": [
        "input_num = int(input(\"Enter any number : \"))\n",
        "digit = int(input_num % 10)\n",
        "if digit % 3 == 0:\n",
        "    print(\"The last digit of {} is divisible by 3 \".format(input_num))\n",
        "else:\n",
        "    print(\"The last digit of {} is not divisible by 3 \".format(input_num))\n"
      ],
      "metadata": {
        "colab": {
          "base_uri": "https://localhost:8080/"
        },
        "id": "nm_1VimnV9HP",
        "outputId": "2568af6d-cfc9-4662-839a-dbbc1cab574d"
      },
      "execution_count": 6,
      "outputs": [
        {
          "output_type": "stream",
          "name": "stdout",
          "text": [
            "Enter any number : 3\n",
            "The last digit of 3 is divisible by 3 \n"
          ]
        }
      ]
    },
    {
      "cell_type": "markdown",
      "source": [
        "5. The volume of a sphere with radius r is 4/3 π r3. What is the volume of a sphere with a radius of 5?"
      ],
      "metadata": {
        "id": "q-ju58UJXEzy"
      }
    },
    {
      "cell_type": "code",
      "source": [
        "import math \n",
        "radius= 5\n",
        "volume = math.pi * 4/3 * radius**3\n",
        "print(volume)"
      ],
      "metadata": {
        "colab": {
          "base_uri": "https://localhost:8080/"
        },
        "id": "lUZjw7tiW9c-",
        "outputId": "e828e629-33c3-497d-8041-38a75af09ed5"
      },
      "execution_count": 7,
      "outputs": [
        {
          "output_type": "stream",
          "name": "stdout",
          "text": [
            "523.5987755982989\n"
          ]
        }
      ]
    },
    {
      "cell_type": "markdown",
      "source": [
        "6. WAP to Find the Largest Among Three Numbers"
      ],
      "metadata": {
        "id": "qx0jt7cOXugk"
      }
    },
    {
      "cell_type": "code",
      "source": [
        "num1 = int(input(\"Enter first number : \"))\n",
        "num2 = int(input(\"Enter second number : \"))\n",
        "num3 = int(input(\"Enter third number : \"))\n",
        "if num1 == num2 == num3:\n",
        "  print(\"Equal\")\n",
        "else:\n",
        "\n",
        "    if( num1 > num2 and num1 > num3):\n",
        "        print(\"{} is the greatest\".format(num1))\n",
        "    elif (num2 > num3 and num2> num1):\n",
        "        print(\"{} is the greatest\".format(num2))\n",
        "    else:\n",
        "        print(\"{} is the greatest\".format(num3))\n",
        "    \n",
        "    "
      ],
      "metadata": {
        "colab": {
          "base_uri": "https://localhost:8080/"
        },
        "id": "QT7z9VIkXc_T",
        "outputId": "1366b7f6-4d57-496d-de32-7bf383458289"
      },
      "execution_count": 12,
      "outputs": [
        {
          "output_type": "stream",
          "name": "stdout",
          "text": [
            "Enter first number : 00\n",
            "Enter second number : 00\n",
            "Enter third number : 00\n",
            "Equal\n"
          ]
        }
      ]
    },
    {
      "cell_type": "markdown",
      "source": [
        "7. A school has the following rules for the grading system:\n",
        "Below 25 - F\n",
        "25 to 45 - E\n",
        "45 to 50 - D\n",
        "50 to 60 - C\n",
        "60 to 80 - B\n",
        "f. 80 or Above 80 - A\n",
        "Ask the user to enter marks and print the corresponding grade.\n"
      ],
      "metadata": {
        "id": "BG0VI9PPZCMo"
      }
    },
    {
      "cell_type": "code",
      "source": [
        "marks = int(input(\"Enter marks: \"))\n",
        "if marks > 100 or marks < 0:\n",
        "    print(\"Enter valid marks between 0-100\")   \n",
        "elif(marks >= 80):\n",
        "    print(\"Grade A\")\n",
        "elif(marks >= 60 and marks < 80):\n",
        "    print(\"Grade B\")\n",
        "elif(marks >= 50 and marks < 60):\n",
        "    print(\"Grade C\")\n",
        "elif(marks >= 45 and marks < 50):\n",
        "    print(\"Grade D\")\n",
        "elif(marks >= 25 and marks < 45):\n",
        "    print(\"Grade E\")\n",
        "else:\n",
        "    print(\"Grade F\")"
      ],
      "metadata": {
        "colab": {
          "base_uri": "https://localhost:8080/"
        },
        "id": "D_WZ_K1GYd1y",
        "outputId": "0809b4ce-5a74-4b43-f4b0-1dea875eba8a"
      },
      "execution_count": 20,
      "outputs": [
        {
          "output_type": "stream",
          "name": "stdout",
          "text": [
            "Enter marks: 1\n",
            "Grade F\n"
          ]
        }
      ]
    },
    {
      "cell_type": "markdown",
      "source": [
        "8. A company decided to give a bonus of 5% to the employee if his/her year of service is more than 5 years.\n",
        "Ask the users for their salary and year of service and print the net bonus amount."
      ],
      "metadata": {
        "id": "Vvdn70BHeUnb"
      }
    },
    {
      "cell_type": "code",
      "source": [
        "salary= float(input(\"Enter your salary: \"))\n",
        "service = float(input(\"Enter your years of service: \"))\n",
        "bonus = 0.05* salary\n",
        "if service > 5:\n",
        "    salary = salary + bonus\n",
        "    print(\"Your net salary is {}\".format(salary))\n",
        "else:\n",
        "    print(\"Your net salary is {}\".format(salary))  \n"
      ],
      "metadata": {
        "colab": {
          "base_uri": "https://localhost:8080/"
        },
        "id": "RtwJNruqd-Mu",
        "outputId": "f5712b26-4cf0-4d5a-9c76-f0e37b05a1e4"
      },
      "execution_count": 22,
      "outputs": [
        {
          "output_type": "stream",
          "name": "stdout",
          "text": [
            "Enter your salary: 150000\n",
            "Enter your years of service: 4\n",
            "Your net salary is 150000.0\n"
          ]
        }
      ]
    }
  ]
}